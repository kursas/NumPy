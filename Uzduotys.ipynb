
Užduotys
Atkreipkite dėmesį, kad, jeigu neteisingai įvsite atsakymą, Out reikšmė irgi pasikeis

import numpy as np
1. Sukurkite vektorių su skaičiais nuo 1 iki 9

 
array([1, 2, 3, 4, 5, 6, 7, 8, 9])
2. Sukurkite vektorių iš 10 nulių

 
array([0., 0., 0., 0., 0., 0., 0., 0., 0., 0.])
3. Sukurkite vektorių iš 10 vienetų

 
array([1., 1., 1., 1., 1., 1., 1., 1., 1., 1.])
4. Sukurkite vektorių iš 10 ketvertų

 
array([4., 4., 4., 4., 4., 4., 4., 4., 4., 4.])
5. Sukurkite vektorių iš lyginių skaičių nuo 0 iki 100

 
array([  0,   2,   4,   6,   8,  10,  12,  14,  16,  18,  20,  22,  24,
        26,  28,  30,  32,  34,  36,  38,  40,  42,  44,  46,  48,  50,
        52,  54,  56,  58,  60,  62,  64,  66,  68,  70,  72,  74,  76,
        78,  80,  82,  84,  86,  88,  90,  92,  94,  96,  98, 100])
6. Sukurkite matricą iš 25 narių, pradedant 1, baigiant 25. Priskirkite ją kintamąjam.

 
 
array([[ 1,  2,  3,  4,  5],
       [ 6,  7,  8,  9, 10],
       [11, 12, 13, 14, 15],
       [16, 17, 18, 19, 20],
       [21, 22, 23, 24, 25]])
7. Iš matricos ištraukite skaičių 12

 
12
8. Iš matricos ištraukite paskutinę eilutę.

 
array([21, 22, 23, 24, 25])
9. Iš matricos ištraukite submatricą

1, 2, 3
6, 7, 8
11,12,13

 
array([[ 1,  2,  3],
       [ 6,  7,  8],
       [11, 12, 13]])
10. Iš matricos ištraukite submatricą

7, 8, 9, 10
12, 13, 14, 15
17, 18, 19, 20

 
array([[ 7,  8,  9, 10],
       [12, 13, 14, 15],
       [17, 18, 19, 20]])
11. Iš matricos ištraukite submatricą

16, 17, 18
21, 22, 23

 
array([[16, 17, 18],
       [21, 22, 23]])
12. Sukurkite vektorių iš 20 atsitiktinių reikšmių nuo 0 iki 1. Priskirkite kintamąjam.

 
 
array([0.8583063 , 0.7839858 , 0.15307399, 0.74393181, 0.13574434,
       0.36289168, 0.13960192, 0.18715374, 0.29947662, 0.7245185 ,
       0.06837904, 0.44806807, 0.31655348, 0.21103823, 0.6815801 ,
       0.81323892, 0.48069123, 0.57937349, 0.72240019, 0.65220459])
13. Suraskite didžiausią reikšmę masyve ir jos indeksą.

 
0.8583063020360838
 
0
14. Suraskite mažiausią reikšmę ir jos indeksą

 
0.06837904455958688
 
10
15. Atspausdinkite šios matricos duomenų tipą

 
dtype('float64')
16. Sukurkite vektorių iš integer reikšmių nuo 1 iki 100. Priskirkite kintamąjam. Iš jo ištraukite visus skaičius, didesnius už 90

 
 
array([  1,   2,   3,   4,   5,   6,   7,   8,   9,  10,  11,  12,  13,
        14,  15,  16,  17,  18,  19,  20,  21,  22,  23,  24,  25,  26,
        27,  28,  29,  30,  31,  32,  33,  34,  35,  36,  37,  38,  39,
        40,  41,  42,  43,  44,  45,  46,  47,  48,  49,  50,  51,  52,
        53,  54,  55,  56,  57,  58,  59,  60,  61,  62,  63,  64,  65,
        66,  67,  68,  69,  70,  71,  72,  73,  74,  75,  76,  77,  78,
        79,  80,  81,  82,  83,  84,  85,  86,  87,  88,  89,  90,  91,
        92,  93,  94,  95,  96,  97,  98,  99, 100])
 
array([ 91,  92,  93,  94,  95,  96,  97,  98,  99, 100])
17. Ištraukite iš vektoriaus visus skaičiaus 7 kartotinius

 
array([ 7, 14, 21, 28, 35, 42, 49, 56, 63, 70, 77, 84, 91, 98])
18. Sukurkite tokią matricą:

# array([[0.025, 0.05 , 0.075, 0.1  , 0.125, 0.15 , 0.175, 0.2  ],
#        [0.225, 0.25 , 0.275, 0.3  , 0.325, 0.35 , 0.375, 0.4  ],
#        [0.425, 0.45 , 0.475, 0.5  , 0.525, 0.55 , 0.575, 0.6  ],
#        [0.625, 0.65 , 0.675, 0.7  , 0.725, 0.75 , 0.775, 0.8  ],
#        [0.825, 0.85 , 0.875, 0.9  , 0.925, 0.95 , 0.975, 1.   ]])
 
array([[0.025, 0.05 , 0.075, 0.1  , 0.125, 0.15 , 0.175, 0.2  ],
       [0.225, 0.25 , 0.275, 0.3  , 0.325, 0.35 , 0.375, 0.4  ],
       [0.425, 0.45 , 0.475, 0.5  , 0.525, 0.55 , 0.575, 0.6  ],
       [0.625, 0.65 , 0.675, 0.7  , 0.725, 0.75 , 0.775, 0.8  ],
       [0.825, 0.85 , 0.875, 0.9  , 0.925, 0.95 , 0.975, 1.   ]])
19. sukurkite tokią matricą (sveiki sk. nuo 2 iki 1000 iš kurių traukiasi sveika šaknis):

# array([[  4,   9,  16,  25,  36],
#        [ 49,  64,  81, 100, 121],
#        [144, 169, 196, 225, 256],
#        [289, 324, 361, 400, 441],
#        [484, 529, 576, 625, 676],
#        [729, 784, 841, 900, 961]])
 
 
 
array([[  4,   9,  16,  25,  36],
       [ 49,  64,  81, 100, 121],
       [144, 169, 196, 225, 256],
       [289, 324, 361, 400, 441],
       [484, 529, 576, 625, 676],
       [729, 784, 841, 900, 961]])
20. (BONUS)

Sukurkite vektorių iš sveikų sk. nuo 1 iki 100. Priskirkite kintamąjam.
Sukurkite Python funkciją, kuri tikrina ar parametruose įvestas sk. yra pirminis. Jeigu pirminis, grąžina True, jei ne, False.
NumPy nevisada supranta įprastą Python kodą su range'ais ir list'ais, todėl sukurtą funkciją teks vektorizuoti taip : nauja_funkcija = np.vectorize(jūsų_funkcija) .
Kadangi sąlygos reikšmių traukimui yra bool reikšmės, pabandykite vietoje sąlygos įdėti savo vektorizuotą funkciją, ir taip išrinkti pirminius skaičius iš savo vektoriaus
.

 
 
 
 
array([ 1,  2,  3,  5,  7, 11, 13, 17, 19, 23, 29, 31, 37, 41, 43, 47, 53,
       59, 61, 67, 71, 73, 79, 83, 89, 97])
 
